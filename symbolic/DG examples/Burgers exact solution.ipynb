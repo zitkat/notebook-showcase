{
 "cells": [
  {
   "cell_type": "markdown",
   "metadata": {},
   "source": [
    "# Viscous Burgers equation in 1D"
   ]
  },
  {
   "cell_type": "markdown",
   "metadata": {},
   "source": [
    "$$\\frac{\\partial p}{\\partial t} + \\frac{1}{2} \\frac{\\partial p^2}{\\partial x}\n",
    "- D \\cdot \\frac{\\partial^2 p}{\\partial x^ 2} = g$$"
   ]
  },
  {
   "cell_type": "code",
   "execution_count": 5,
   "metadata": {},
   "outputs": [
    {
     "data": {
      "text/plain": [
       "(t, x, D)"
      ]
     },
     "execution_count": 5,
     "metadata": {},
     "output_type": "execute_result"
    }
   ],
   "source": [
    "var('t', 'x', 'D')"
   ]
  },
  {
   "cell_type": "code",
   "execution_count": 6,
   "metadata": {},
   "outputs": [],
   "source": [
    "u(x, t, D) = -tanh(-(2*t - 2*x - 1)/4/D) + 1"
   ]
  },
  {
   "cell_type": "code",
   "execution_count": 7,
   "metadata": {},
   "outputs": [
    {
     "data": {
      "image/png": "[encoded data removed]",
      "text/plain": [
       "Graphics object consisting of 4 graphics primitives"
      ]
     },
     "execution_count": 7,
     "metadata": {},
     "output_type": "execute_result"
    }
   ],
   "source": [
    "plot(u.subs(t=1, D=0.001), color='red') + \\\n",
    "plot(u.subs(t=1, D=0.01)) + \\\n",
    "text(\"$D=0.01$\", (1, 0.25), fontsize=16) + \\\n",
    "text(\"$D=0.001$\", (1, 0.40), color=\"red\", fontsize=16)"
   ]
  },
  {
   "cell_type": "code",
   "execution_count": 8,
   "metadata": {},
   "outputs": [
    {
     "data": {
      "text/plain": [
       "(x, t, D) |--> -tanh(500.000000000000*x - 250.000000000000) + 1"
      ]
     },
     "execution_count": 8,
     "metadata": {},
     "output_type": "execute_result"
    }
   ],
   "source": [
    "u.subs(t=1, D=0.001)"
   ]
  },
  {
   "cell_type": "code",
   "execution_count": 9,
   "metadata": {},
   "outputs": [
    {
     "data": {
      "text/plain": [
       "(x, t, D) |--> 1/2*(tanh(-1/4*(2*t - 2*x - 1)/D)^2 - 1)/D"
      ]
     },
     "execution_count": 9,
     "metadata": {},
     "output_type": "execute_result"
    }
   ],
   "source": [
    "diff(u, x)"
   ]
  },
  {
   "cell_type": "code",
   "execution_count": 10,
   "metadata": {},
   "outputs": [
    {
     "data": {
      "text/plain": [
       "\\left( x, t, D \\right) \\ {\\mapsto} \\ \\frac{\\tanh\\left(-\\frac{2 \\, t - 2 \\, x - 1}{4 \\, D}\\right)^{2} - 1}{2 \\, D}"
      ]
     },
     "execution_count": 10,
     "metadata": {},
     "output_type": "execute_result"
    }
   ],
   "source": [
    "latex(diff(u, x))"
   ]
  },
  {
   "cell_type": "markdown",
   "metadata": {},
   "source": [
    "$$\\left( x, t, D \\right) \\ {\\mapsto} \\ \\frac{\\tanh\\left(-\\frac{2 \\, t - 2 \\, x - 1}{4 \\, D}\\right)^{2} - 1}{2 \\, D}$$"
   ]
  },
  {
   "cell_type": "markdown",
   "metadata": {},
   "source": []
  }
 ],
 "metadata": {
  "kernelspec": {
   "display_name": "SageMath 9.7",
   "language": "sage",
   "name": "sagemath"
  },
  "language_info": {
   "codemirror_mode": {
    "name": "ipython",
    "version": 3
   },
   "file_extension": ".py",
   "mimetype": "text/x-python",
   "name": "python",
   "nbconvert_exporter": "python",
   "pygments_lexer": "ipython3",
   "version": "3.9.13"
  }
 },
 "nbformat": 4,
 "nbformat_minor": 4
}
