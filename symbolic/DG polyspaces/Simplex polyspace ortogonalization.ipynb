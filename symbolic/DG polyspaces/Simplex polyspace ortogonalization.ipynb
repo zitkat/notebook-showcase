{
 "cells": [
  {
   "cell_type": "code",
   "execution_count": 2,
   "metadata": {},
   "outputs": [],
   "source": [
    "from toolz import reduce as redc\n",
    "from operator import mul"
   ]
  },
  {
   "cell_type": "code",
   "execution_count": 3,
   "metadata": {
    "collapsed": false,
    "jupyter": {
     "outputs_hidden": false
    }
   },
   "outputs": [],
   "source": [
    "def iter_by_order(order, dim, extended=False):\n",
    "    \"\"\"\n",
    "    Iterates over all combinations of basis functions indexes\n",
    "    needed to create multidimensional basis in a way that creates hierarchical basis\n",
    "    :param order: desired order of multidimensional basis\n",
    "    :param dim: dimension of the basis\n",
    "    :param extended\n",
    "\n",
    "    :yields: tuple containing indexes, use in _combine_polyvals and _combine_polyvals_der\n",
    "    :return: None\n",
    "    \"\"\"\n",
    "\n",
    "    # nth(iter(map(lambda x: x + (order - reduce(add,x),)), range(order)), dim)\n",
    "    # nth(dim, iterate(map(lambda x: x + (order - reduce(add,x),)), map(tuple, range(order))))\n",
    "    # nth(2, iterate(map(lambda x: x + (order - reduce(add,x),)), map(lambda x: (x,), range(order))))\n",
    "    porder = order + 1\n",
    "    if dim == 1:\n",
    "        for i in range(porder):\n",
    "            yield i,\n",
    "        return\n",
    "    elif dim == 2:\n",
    "        for k in range(porder):\n",
    "            for i in range(k + 1):\n",
    "                yield i, k - i\n",
    "        if not extended: return\n",
    "        for k in range(1, porder):\n",
    "            for i in range(1, porder):\n",
    "                if i + k <= porder - 1:\n",
    "                    continue\n",
    "                yield i, k\n",
    "\n",
    "    elif dim == 3:\n",
    "        for k in range(porder):\n",
    "            for j in range(k + 1):\n",
    "                for i in range(j + 1):\n",
    "                    yield i, j - i, k - j\n",
    "        return"
   ]
  },
  {
   "cell_type": "code",
   "execution_count": 4,
   "metadata": {},
   "outputs": [],
   "source": [
    "def gramm_schmidt(base, dot_prod):\n",
    "    '''\n",
    "    Ortogonalizuje bázi base vůči skálárnímu součinu dot_prod\n",
    "    :param base:\n",
    "    :param dot_prod:\n",
    "    :return:\n",
    "    '''\n",
    "    new_base = []\n",
    "    for i in range(len(base)):\n",
    "        new_base.append(ortogonalize(base[i], new_base, dot_prod))\n",
    "    return new_base\n",
    "\n",
    "\n",
    "def ortogonalize(vec, base, dot_prod):\n",
    "    for j in range(len(base)):\n",
    "        kap = - dot_prod(vec, base[j]) / dot_prod(base[j], base[j])\n",
    "        vec = vec + kap * base[j]\n",
    "    return vec\n",
    "\n",
    "def dot_prods_matrix(basis, dot_prod):\n",
    "    Np = len(basis)\n",
    "    from sympy.matrices import ones\n",
    "    vendM = ones(Np, Np)\n",
    "    for i in range(Np):\n",
    "        for j in range(Np):\n",
    "            vendM[i, j] = dot_prod(basis[i], basis[j])\n",
    "    return vendM"
   ]
  },
  {
   "cell_type": "code",
   "execution_count": 5,
   "metadata": {
    "collapsed": false,
    "jupyter": {
     "outputs_hidden": false
    }
   },
   "outputs": [],
   "source": [
    "simplex_dots = [lambda f, g: integrate(f*g, (x, 0, 1)),\n",
    "                lambda f, g: integrate(integrate(f*g, (y, 0, 1 - x)),(x, 0, 1)),\n",
    "                lambda f, g: integrate(integrate(integrate(f*g, (z, 0, y)),(y, 0, 1 - x)),(x, 0, 1))\n",
    "               ]# Fubini, yayy!"
   ]
  },
  {
   "cell_type": "code",
   "execution_count": 6,
   "metadata": {
    "collapsed": false,
    "jupyter": {
     "outputs_hidden": false
    }
   },
   "outputs": [],
   "source": [
    "var(\"a\", \"b\")\n",
    "var(\"r\", \"s\")\n",
    "var(\"x\", \"y\", \"z\")\n",
    "variables = [x, y, z]\n",
    "order = 2\n",
    "D = 2"
   ]
  },
  {
   "cell_type": "markdown",
   "metadata": {},
   "source": [
    "# Canonical basis"
   ]
  },
  {
   "cell_type": "code",
   "execution_count": 7,
   "metadata": {},
   "outputs": [
    {
     "name": "stdout",
     "output_type": "stream",
     "text": [
      "P_0 = 1\n",
      "P_1 = y\n",
      "P_2 = x\n",
      "P_3 = y^2\n",
      "P_4 = x*y\n",
      "P_5 = x^2\n"
     ]
    }
   ],
   "source": [
    "simplexP_canon = []\n",
    "for m, idx in enumerate(iter_by_order(order, D)):\n",
    "    tmpf = redc(mul, [variables[d]**i for d, i in enumerate(idx)])\n",
    "    simplexP_canon.append(tmpf)\n",
    "    print(\"P_{} = {}\".format(m, tmpf))"
   ]
  },
  {
   "cell_type": "code",
   "execution_count": 8,
   "metadata": {},
   "outputs": [
    {
     "data": {
      "text/latex": [
       "$\\displaystyle \\left[\\begin{matrix}\\frac{1}{2} & \\frac{1}{6} & \\frac{1}{6} & \\frac{1}{12} & \\frac{1}{24} & \\frac{1}{12}\\\\\\frac{1}{6} & \\frac{1}{12} & \\frac{1}{24} & \\frac{1}{20} & \\frac{1}{60} & \\frac{1}{60}\\\\\\frac{1}{6} & \\frac{1}{24} & \\frac{1}{12} & \\frac{1}{60} & \\frac{1}{60} & \\frac{1}{20}\\\\\\frac{1}{12} & \\frac{1}{20} & \\frac{1}{60} & \\frac{1}{30} & \\frac{1}{120} & \\frac{1}{180}\\\\\\frac{1}{24} & \\frac{1}{60} & \\frac{1}{60} & \\frac{1}{120} & \\frac{1}{180} & \\frac{1}{120}\\\\\\frac{1}{12} & \\frac{1}{60} & \\frac{1}{20} & \\frac{1}{180} & \\frac{1}{120} & \\frac{1}{30}\\end{matrix}\\right]$"
      ],
      "text/plain": [
       "Matrix([\n",
       "[ 1/2,  1/6,  1/6,  1/12,  1/24,  1/12],\n",
       "[ 1/6, 1/12, 1/24,  1/20,  1/60,  1/60],\n",
       "[ 1/6, 1/24, 1/12,  1/60,  1/60,  1/20],\n",
       "[1/12, 1/20, 1/60,  1/30, 1/120, 1/180],\n",
       "[1/24, 1/60, 1/60, 1/120, 1/180, 1/120],\n",
       "[1/12, 1/60, 1/20, 1/180, 1/120,  1/30]])"
      ]
     },
     "execution_count": 8,
     "metadata": {},
     "output_type": "execute_result"
    }
   ],
   "source": [
    "dot_prods_matrix(simplexP_canon, simplex_dots[D - 1])"
   ]
  },
  {
   "cell_type": "code",
   "execution_count": 9,
   "metadata": {},
   "outputs": [
    {
     "data": {
      "text/plain": [
       "[1,\n",
       " y - 1/3,\n",
       " x + 1/2*y - 1/2,\n",
       " y^2 - 4/5*y + 1/10,\n",
       " x*y + 1/2*y^2 - 1/5*x - 3/5*y + 1/10,\n",
       " x^2 + x*y + 1/6*y^2 - x - 1/3*y + 1/6]"
      ]
     },
     "execution_count": 9,
     "metadata": {},
     "output_type": "execute_result"
    }
   ],
   "source": [
    "simplexP_ort = gramm_schmidt(simplexP_canon, simplex_dots[D - 1])\n",
    "simplexP_ort"
   ]
  },
  {
   "cell_type": "code",
   "execution_count": 10,
   "metadata": {},
   "outputs": [
    {
     "data": {
      "text/latex": [
       "$\\displaystyle \\left[\\begin{matrix}\\frac{1}{2} & 0 & 0 & 0 & 0 & 0\\\\0 & \\frac{1}{36} & 0 & 0 & 0 & 0\\\\0 & 0 & \\frac{1}{48} & 0 & 0 & 0\\\\0 & 0 & 0 & \\frac{1}{600} & 0 & 0\\\\0 & 0 & 0 & 0 & \\frac{1}{1800} & 0\\\\0 & 0 & 0 & 0 & 0 & \\frac{1}{1080}\\end{matrix}\\right]$"
      ],
      "text/plain": [
       "Matrix([\n",
       "[1/2,    0,    0,     0,      0,      0],\n",
       "[  0, 1/36,    0,     0,      0,      0],\n",
       "[  0,    0, 1/48,     0,      0,      0],\n",
       "[  0,    0,    0, 1/600,      0,      0],\n",
       "[  0,    0,    0,     0, 1/1800,      0],\n",
       "[  0,    0,    0,     0,      0, 1/1080]])"
      ]
     },
     "execution_count": 10,
     "metadata": {},
     "output_type": "execute_result"
    }
   ],
   "source": [
    "dot_prods_matrix(simplexP_ort, simplex_dots[D - 1])"
   ]
  },
  {
   "cell_type": "markdown",
   "metadata": {},
   "source": [
    "# Jacobi basis"
   ]
  },
  {
   "cell_type": "code",
   "execution_count": 11,
   "metadata": {
    "collapsed": false,
    "jupyter": {
     "outputs_hidden": false
    }
   },
   "outputs": [
    {
     "name": "stdout",
     "output_type": "stream",
     "text": [
      "P_0(a, b) = 1\n",
      "P_0(r, s) = 1\n",
      "P_0(x, y) = 1\n",
      "dP_0/dx = 0\n",
      "dP_0/dy = 0\n",
      "\n",
      "P_1(a, b) = 3/2*b + 1/2\n",
      "P_1(r, s) = 3/2*s + 1/2\n",
      "P_1(x, y) = 3*y - 1\n",
      "dP_1/dx = 0\n",
      "dP_1/dy = 3\n",
      "\n",
      "P_2(a, b) = -a*(b - 1)\n",
      "P_2(r, s) = 2*r + s + 1\n",
      "P_2(x, y) = 4*x + 2*y - 2\n",
      "dP_2/dx = 4\n",
      "dP_2/dy = 2\n",
      "\n",
      "P_3(a, b) = 5/2*b^2 + b - 1/2\n",
      "P_3(r, s) = 5/2*s^2 + s - 1/2\n",
      "P_3(x, y) = 10*y^2 - 8*y + 1\n",
      "dP_3/dx = 0\n",
      "dP_3/dy = 20*y - 8\n",
      "\n",
      "P_4(a, b) = -1/2*a*(5*b + 3)*(b - 1)\n",
      "P_4(r, s) = (5*r + 4)*s + 5/2*s^2 + 3*r + 3/2\n",
      "P_4(x, y) = 20*x*y + 10*y^2 - 4*x - 12*y + 2\n",
      "dP_4/dx = 20*y - 4\n",
      "dP_4/dy = 20*x + 20*y - 12\n",
      "\n",
      "P_5(a, b) = 1/2*(3*a^2 - 1)*(b - 1)^2\n",
      "P_5(r, s) = 6*r^2 + 2*(3*r + 2)*s + s^2 + 6*r + 1\n",
      "P_5(x, y) = 24*x^2 + 24*x*y + 4*y^2 - 24*x - 8*y + 4\n",
      "dP_5/dx = 48*x + 24*y - 24\n",
      "dP_5/dy = 24*x + 8*y - 8\n",
      "\n"
     ]
    }
   ],
   "source": [
    "simplexP = []\n",
    "simplexPdx = []\n",
    "simplexPdy = []\n",
    "for m, idx in enumerate(iter_by_order(order, D)):\n",
    "    pa = jacobi_P(idx[0], 0, 0, a)\n",
    "    pb = jacobi_P(idx[1], 2*idx[0] + 1, 0,b)*(1 - b)**idx[0]\n",
    "    print(\"P_{}(a, b) = {}\".format(m, pa*pb))\n",
    "    polrs = (pa*pb).subs(\n",
    "                    b == s, \n",
    "                    a == 2 * (1 + r) / (1 - s) - 1).simplify_rational()\n",
    "    print(\"P_{}(r, s) = {}\".format(m, polrs))\n",
    "    polxy = expand(polrs.subs(r == 2*x - 1, s == 2*y - 1))\n",
    "    simplexP.append(polxy)\n",
    "    simplexPdx = diff(simplexP[m],x)\n",
    "    simplexPdy = diff(simplexP[m],y)\n",
    "    print(\"P_{}(x, y) = {}\".format(m, simplexP[m]))\n",
    "    print(\"dP_{}/dx = {}\".format(m, simplexPdx))\n",
    "    print(\"dP_{}/dy = {}\".format(m, simplexPdy))\n",
    "    print()"
   ]
  },
  {
   "cell_type": "code",
   "execution_count": 12,
   "metadata": {
    "collapsed": false,
    "jupyter": {
     "outputs_hidden": false
    }
   },
   "outputs": [
    {
     "data": {
      "text/latex": [
       "$\\displaystyle \\left[\\begin{matrix}\\frac{1}{2} & 0 & 0 & 0 & 0 & 0\\\\0 & \\frac{1}{4} & 0 & 0 & 0 & 0\\\\0 & 0 & \\frac{1}{3} & 0 & 0 & 0\\\\0 & 0 & 0 & \\frac{1}{6} & 0 & 0\\\\0 & 0 & 0 & 0 & \\frac{2}{9} & 0\\\\0 & 0 & 0 & 0 & 0 & \\frac{8}{15}\\end{matrix}\\right]$"
      ],
      "text/plain": [
       "Matrix([\n",
       "[1/2,   0,   0,   0,   0,    0],\n",
       "[  0, 1/4,   0,   0,   0,    0],\n",
       "[  0,   0, 1/3,   0,   0,    0],\n",
       "[  0,   0,   0, 1/6,   0,    0],\n",
       "[  0,   0,   0,   0, 2/9,    0],\n",
       "[  0,   0,   0,   0,   0, 8/15]])"
      ]
     },
     "execution_count": 12,
     "metadata": {},
     "output_type": "execute_result"
    }
   ],
   "source": [
    "dot_prods_matrix(simplexP, simplex_dots[D - 1])"
   ]
  },
  {
   "cell_type": "code",
   "execution_count": null,
   "metadata": {
    "collapsed": false,
    "jupyter": {
     "outputs_hidden": false
    }
   },
   "outputs": [],
   "source": []
  }
 ],
 "metadata": {
  "kernelspec": {
   "display_name": "SageMath 9.7",
   "language": "sage",
   "name": "sagemath"
  },
  "language_info": {
   "codemirror_mode": {
    "name": "ipython",
    "version": 3
   },
   "file_extension": ".py",
   "mimetype": "text/x-python",
   "name": "python",
   "nbconvert_exporter": "python",
   "pygments_lexer": "ipython3",
   "version": "3.9.13"
  }
 },
 "nbformat": 4,
 "nbformat_minor": 4
}
