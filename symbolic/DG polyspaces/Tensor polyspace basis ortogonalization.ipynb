{
 "cells": [
  {
   "cell_type": "code",
   "execution_count": 1,
   "metadata": {
    "collapsed": false,
    "jupyter": {
     "outputs_hidden": false
    }
   },
   "outputs": [],
   "source": [
    "def iter_by_order(order, dim, extended=True):\n",
    "    \"\"\"\n",
    "    Iterates over all combinations of basis functions indexes\n",
    "    needed to create multidimensional basis in a way that creates hierarchical basis\n",
    "    :param order: desired order of multidimensional basis\n",
    "    :param dim: dimension of the basis\n",
    "    :param extended\n",
    "\n",
    "    :yields: tuple containing indexes, use in _combine_polyvals and _combine_polyvals_der\n",
    "    :return: None\n",
    "    \"\"\"\n",
    "\n",
    "    # nth(iter(map(lambda x: x + (order - reduce(add,x),)), range(order)), dim)\n",
    "    # nth(dim, iterate(map(lambda x: x + (order - reduce(add,x),)), map(tuple, range(order))))\n",
    "    # nth(2, iterate(map(lambda x: x + (order - reduce(add,x),)), map(lambda x: (x,), range(order))))\n",
    "    porder = order + 1\n",
    "    if dim == 1:\n",
    "        for i in range(porder):\n",
    "            yield i,\n",
    "        return\n",
    "    elif dim == 2:\n",
    "        for k in range(porder):\n",
    "            for i in range(k + 1):\n",
    "                yield i, k - i\n",
    "        if not extended: return\n",
    "        for k in range(1, porder):\n",
    "            for i in range(1, porder):\n",
    "                if i + k <= porder - 1:\n",
    "                    continue\n",
    "                yield i, k\n",
    "\n",
    "    elif dim == 3:\n",
    "        for k in range(porder):\n",
    "            for j in range(k + 1):\n",
    "                for i in range(j + 1):\n",
    "                    yield i, j - i, k - j\n",
    "        return\n"
   ]
  },
  {
   "cell_type": "code",
   "execution_count": 2,
   "metadata": {
    "collapsed": false,
    "jupyter": {
     "outputs_hidden": false
    }
   },
   "outputs": [],
   "source": [
    "def gramm_schmidt(base, dot_prod):\n",
    "    '''\n",
    "    Ortogonalizuje bázi base vůči skálárnímu součinu dot_prod\n",
    "    :param base:\n",
    "    :param dot_prod:\n",
    "    :return:\n",
    "    '''\n",
    "    new_base = []\n",
    "    for i in range(len(base)):\n",
    "        new_base.append(ortogonalize(base[i], new_base, dot_prod))\n",
    "    return new_base\n",
    "\n",
    "\n",
    "def ortogonalize(vec, base, dot_prod):\n",
    "    for j in range(len(base)):\n",
    "        kap = - dot_prod(vec, base[j]) / dot_prod(base[j], base[j])\n",
    "        vec = vec + kap * base[j]\n",
    "    return vec\n",
    "\n",
    "def dot_prods_matrix(basis, dot_prod):\n",
    "    Np = len(basis)\n",
    "    from sympy.matrices import ones\n",
    "    vendM = ones(Np, Np)\n",
    "    for i in range(Np):\n",
    "        for j in range(Np):\n",
    "            vendM[i, j] = dot_prod(basis[i], basis[j])\n",
    "    return vendM"
   ]
  },
  {
   "cell_type": "code",
   "execution_count": 3,
   "metadata": {
    "collapsed": false,
    "jupyter": {
     "outputs_hidden": false
    }
   },
   "outputs": [],
   "source": [
    "square_dots = [lambda f, g: integrate(f*g, (x, 0, 1)),\n",
    "                lambda f, g: integrate(integrate(f*g, (y, 0, 1)),(x, 0, 1)),\n",
    "                lambda f, g: integrate(integrate(integrate(f*g, (z, 0, 1)),(y, 0, 1)),(x, 0, 1))\n",
    "               ]# Fubini, yayy!"
   ]
  },
  {
   "cell_type": "code",
   "execution_count": 6,
   "metadata": {
    "collapsed": false,
    "jupyter": {
     "outputs_hidden": false
    }
   },
   "outputs": [],
   "source": [
    "x, y = var((\"x\", \"y\"))\n",
    "r, s = var((\"r\", \"s\"))\n",
    "order = 2\n",
    "D = 2"
   ]
  },
  {
   "cell_type": "markdown",
   "metadata": {},
   "source": [
    "# Legendre basis on $[0, 1]\\times[0, 1]$"
   ]
  },
  {
   "cell_type": "code",
   "execution_count": 9,
   "metadata": {
    "collapsed": false,
    "jupyter": {
     "outputs_hidden": false
    },
    "scrolled": true
   },
   "outputs": [
    {
     "name": "stdout",
     "output_type": "stream",
     "text": [
      "P_0 = 1\n",
      "P_1 = y\n",
      "P_2 = x\n",
      "P_3 = 3/2*y^2 - 1/2\n",
      "P_4 = x*y\n",
      "P_5 = 3/2*x^2 - 1/2\n",
      "P_6 = 3/2*x^2*y - 1/2*y\n",
      "P_7 = 3/2*x*y^2 - 1/2*x\n",
      "P_8 = 9/4*x^2*y^2 - 3/4*x^2 - 3/4*y^2 + 1/4\n"
     ]
    }
   ],
   "source": [
    "tensorP = []\n",
    "for m, idx in enumerate(iter_by_order(order, 2)):\n",
    "    print(\"P_{} = {}\".format(m, expand(jacobi_P(idx[0], 0, 0, x)*\n",
    "                                       jacobi_P(idx[1], 0, 0, y))))\n",
    "    tensorP.append(jacobi_P(idx[0], 0, 0, x)*jacobi_P(idx[1], 0,0,y))"
   ]
  },
  {
   "cell_type": "markdown",
   "metadata": {},
   "source": [
    "Legendre basis is not ortogonal"
   ]
  },
  {
   "cell_type": "code",
   "execution_count": 10,
   "metadata": {
    "collapsed": false,
    "jupyter": {
     "outputs_hidden": false
    }
   },
   "outputs": [
    {
     "data": {
      "text/latex": [
       "$\\displaystyle \\left[\\begin{matrix}1 & \\frac{1}{2} & \\frac{1}{2} & 0 & \\frac{1}{4} & 0 & 0 & 0 & 0\\\\\\frac{1}{2} & \\frac{1}{3} & \\frac{1}{4} & \\frac{1}{8} & \\frac{1}{6} & 0 & 0 & \\frac{1}{16} & 0\\\\\\frac{1}{2} & \\frac{1}{4} & \\frac{1}{3} & 0 & \\frac{1}{6} & \\frac{1}{8} & \\frac{1}{16} & 0 & 0\\\\0 & \\frac{1}{8} & 0 & \\frac{1}{5} & \\frac{1}{16} & 0 & 0 & \\frac{1}{10} & 0\\\\\\frac{1}{4} & \\frac{1}{6} & \\frac{1}{6} & \\frac{1}{16} & \\frac{1}{9} & \\frac{1}{16} & \\frac{1}{24} & \\frac{1}{24} & \\frac{1}{64}\\\\0 & 0 & \\frac{1}{8} & 0 & \\frac{1}{16} & \\frac{1}{5} & \\frac{1}{10} & 0 & 0\\\\0 & 0 & \\frac{1}{16} & 0 & \\frac{1}{24} & \\frac{1}{10} & \\frac{1}{15} & \\frac{1}{64} & \\frac{1}{40}\\\\0 & \\frac{1}{16} & 0 & \\frac{1}{10} & \\frac{1}{24} & 0 & \\frac{1}{64} & \\frac{1}{15} & \\frac{1}{40}\\\\0 & 0 & 0 & 0 & \\frac{1}{64} & 0 & \\frac{1}{40} & \\frac{1}{40} & \\frac{1}{25}\\end{matrix}\\right]$"
      ],
      "text/plain": [
       "Matrix([\n",
       "[  1,  1/2,  1/2,    0,  1/4,    0,    0,    0,    0],\n",
       "[1/2,  1/3,  1/4,  1/8,  1/6,    0,    0, 1/16,    0],\n",
       "[1/2,  1/4,  1/3,    0,  1/6,  1/8, 1/16,    0,    0],\n",
       "[  0,  1/8,    0,  1/5, 1/16,    0,    0, 1/10,    0],\n",
       "[1/4,  1/6,  1/6, 1/16,  1/9, 1/16, 1/24, 1/24, 1/64],\n",
       "[  0,    0,  1/8,    0, 1/16,  1/5, 1/10,    0,    0],\n",
       "[  0,    0, 1/16,    0, 1/24, 1/10, 1/15, 1/64, 1/40],\n",
       "[  0, 1/16,    0, 1/10, 1/24,    0, 1/64, 1/15, 1/40],\n",
       "[  0,    0,    0,    0, 1/64,    0, 1/40, 1/40, 1/25]])"
      ]
     },
     "execution_count": 10,
     "metadata": {},
     "output_type": "execute_result"
    }
   ],
   "source": [
    "dot_prods_matrix(tensorP, square_dots[D - 1])"
   ]
  },
  {
   "cell_type": "markdown",
   "metadata": {},
   "source": [
    "By gramm-shimdt process we get ortogonal basis. However its \"design\" matrix is badly conditioned."
   ]
  },
  {
   "cell_type": "code",
   "execution_count": 11,
   "metadata": {
    "collapsed": false,
    "jupyter": {
     "outputs_hidden": false
    }
   },
   "outputs": [
    {
     "data": {
      "text/plain": [
       "[1,\n",
       " y - 1/2,\n",
       " x - 1/2,\n",
       " 3/2*y^2 - 3/2*y + 1/4,\n",
       " x*y - 1/2*x - 1/2*y + 1/4,\n",
       " 3/2*x^2 - 3/2*x + 1/4,\n",
       " -3/4*x^2 + 1/2*(3*x^2 - 1)*y - 3/2*x*y + 3/4*x + 3/4*y - 1/8,\n",
       " 1/2*(3*y^2 - 1)*x - 3/2*x*y - 3/4*y^2 + 3/4*x + 3/4*y - 1/8,\n",
       " 1/4*(3*x^2 - 1)*(3*y^2 - 1) - 3/4*(3*y^2 - 1)*x + 9/8*x^2 - 3/4*(3*x^2 - 1)*y + 9/4*x*y + 9/8*y^2 - 9/8*x - 9/8*y - 3/16]"
      ]
     },
     "execution_count": 11,
     "metadata": {},
     "output_type": "execute_result"
    }
   ],
   "source": [
    "tensorP_ort = gramm_schmidt(tensorP, square_dots[D - 1])\n",
    "tensorP_ort"
   ]
  },
  {
   "cell_type": "code",
   "execution_count": 12,
   "metadata": {
    "collapsed": false,
    "jupyter": {
     "outputs_hidden": false
    }
   },
   "outputs": [
    {
     "data": {
      "text/latex": [
       "$\\displaystyle \\left[\\begin{matrix}1 & 0 & 0 & 0 & 0 & 0 & 0 & 0 & 0\\\\0 & \\frac{1}{12} & 0 & 0 & 0 & 0 & 0 & 0 & 0\\\\0 & 0 & \\frac{1}{12} & 0 & 0 & 0 & 0 & 0 & 0\\\\0 & 0 & 0 & \\frac{1}{80} & 0 & 0 & 0 & 0 & 0\\\\0 & 0 & 0 & 0 & \\frac{1}{144} & 0 & 0 & 0 & 0\\\\0 & 0 & 0 & 0 & 0 & \\frac{1}{80} & 0 & 0 & 0\\\\0 & 0 & 0 & 0 & 0 & 0 & \\frac{1}{960} & 0 & 0\\\\0 & 0 & 0 & 0 & 0 & 0 & 0 & \\frac{1}{960} & 0\\\\0 & 0 & 0 & 0 & 0 & 0 & 0 & 0 & \\frac{1}{6400}\\end{matrix}\\right]$"
      ],
      "text/plain": [
       "Matrix([\n",
       "[1,    0,    0,    0,     0,    0,     0,     0,      0],\n",
       "[0, 1/12,    0,    0,     0,    0,     0,     0,      0],\n",
       "[0,    0, 1/12,    0,     0,    0,     0,     0,      0],\n",
       "[0,    0,    0, 1/80,     0,    0,     0,     0,      0],\n",
       "[0,    0,    0,    0, 1/144,    0,     0,     0,      0],\n",
       "[0,    0,    0,    0,     0, 1/80,     0,     0,      0],\n",
       "[0,    0,    0,    0,     0,    0, 1/960,     0,      0],\n",
       "[0,    0,    0,    0,     0,    0,     0, 1/960,      0],\n",
       "[0,    0,    0,    0,     0,    0,     0,     0, 1/6400]])"
      ]
     },
     "execution_count": 12,
     "metadata": {},
     "output_type": "execute_result"
    }
   ],
   "source": [
    "dot_prods_matrix(tensorP_ort, square_dots[D - 1])"
   ]
  },
  {
   "cell_type": "markdown",
   "metadata": {},
   "source": [
    "# Legendre basis with tansformation\n",
    "Tansforming to element $[-1, 1] \\times [-1 , 1]$ by substitution $r = 2x - 1$ and $s = 2y - 1$"
   ]
  },
  {
   "cell_type": "code",
   "execution_count": 13,
   "metadata": {
    "collapsed": false,
    "jupyter": {
     "outputs_hidden": false
    }
   },
   "outputs": [
    {
     "name": "stdout",
     "output_type": "stream",
     "text": [
      "P_0 = 1\n",
      "P_1 = 2*y - 1\n",
      "P_2 = 2*x - 1\n",
      "P_3 = 6*y^2 - 6*y + 1\n",
      "P_4 = 4*x*y - 2*x - 2*y + 1\n",
      "P_5 = 6*x^2 - 6*x + 1\n",
      "P_6 = 12*x^2*y - 6*x^2 - 12*x*y + 6*x + 2*y - 1\n",
      "P_7 = 12*x*y^2 - 12*x*y - 6*y^2 + 2*x + 6*y - 1\n",
      "P_8 = 36*x^2*y^2 - 36*x^2*y - 36*x*y^2 + 6*x^2 + 36*x*y + 6*y^2 - 6*x - 6*y + 1\n"
     ]
    }
   ],
   "source": [
    "tensorP = []\n",
    "for m, idx in enumerate(iter_by_order(order, D)):\n",
    "    jpol = (jacobi_P(idx[0], 0, 0, r)*\n",
    "            jacobi_P(idx[1], 0, 0, s)).subs({r : 2*x - 1, s : 2*y - 1})\n",
    "    print(\"P_{} = {}\".format(m, expand(jpol)))\n",
    "    tensorP.append(jpol)"
   ]
  },
  {
   "cell_type": "code",
   "execution_count": 14,
   "metadata": {
    "collapsed": false,
    "jupyter": {
     "outputs_hidden": false
    }
   },
   "outputs": [
    {
     "data": {
      "text/latex": [
       "$\\displaystyle \\left[\\begin{matrix}1 & 0 & 0 & 0 & 0 & 0 & 0 & 0 & 0\\\\0 & \\frac{1}{3} & 0 & 0 & 0 & 0 & 0 & 0 & 0\\\\0 & 0 & \\frac{1}{3} & 0 & 0 & 0 & 0 & 0 & 0\\\\0 & 0 & 0 & \\frac{1}{5} & 0 & 0 & 0 & 0 & 0\\\\0 & 0 & 0 & 0 & \\frac{1}{9} & 0 & 0 & 0 & 0\\\\0 & 0 & 0 & 0 & 0 & \\frac{1}{5} & 0 & 0 & 0\\\\0 & 0 & 0 & 0 & 0 & 0 & \\frac{1}{15} & 0 & 0\\\\0 & 0 & 0 & 0 & 0 & 0 & 0 & \\frac{1}{15} & 0\\\\0 & 0 & 0 & 0 & 0 & 0 & 0 & 0 & \\frac{1}{25}\\end{matrix}\\right]$"
      ],
      "text/plain": [
       "Matrix([\n",
       "[1,   0,   0,   0,   0,   0,    0,    0,    0],\n",
       "[0, 1/3,   0,   0,   0,   0,    0,    0,    0],\n",
       "[0,   0, 1/3,   0,   0,   0,    0,    0,    0],\n",
       "[0,   0,   0, 1/5,   0,   0,    0,    0,    0],\n",
       "[0,   0,   0,   0, 1/9,   0,    0,    0,    0],\n",
       "[0,   0,   0,   0,   0, 1/5,    0,    0,    0],\n",
       "[0,   0,   0,   0,   0,   0, 1/15,    0,    0],\n",
       "[0,   0,   0,   0,   0,   0,    0, 1/15,    0],\n",
       "[0,   0,   0,   0,   0,   0,    0,    0, 1/25]])"
      ]
     },
     "execution_count": 14,
     "metadata": {},
     "output_type": "execute_result"
    }
   ],
   "source": [
    "dot_prods_matrix(tensorP, square_dots[D - 1])"
   ]
  },
  {
   "cell_type": "code",
   "execution_count": 15,
   "metadata": {
    "collapsed": false,
    "jupyter": {
     "outputs_hidden": false
    }
   },
   "outputs": [
    {
     "data": {
      "text/latex": [
       "$\\displaystyle 25$"
      ],
      "text/plain": [
       "25"
      ]
     },
     "execution_count": 15,
     "metadata": {},
     "output_type": "execute_result"
    }
   ],
   "source": [
    "_.condition_number()"
   ]
  },
  {
   "cell_type": "code",
   "execution_count": 16,
   "metadata": {},
   "outputs": [],
   "source": [
    "# In case we get sfepy imports working\n",
    "# geometry = Struct(n_vertex=2,\n",
    "#                   dim=1,\n",
    "#                   coors=nm.array([0, 1]))\n",
    "# order = 4\n",
    "# ts = LegendreTensorProductPolySpace('legb', geometry, order)\n",
    "# ls = LegendrePolySpace('legb', geometry, order)"
   ]
  },
  {
   "cell_type": "markdown",
   "metadata": {},
   "source": [
    "# Legendre tensor basis gradients"
   ]
  },
  {
   "cell_type": "code",
   "execution_count": 160,
   "metadata": {},
   "outputs": [
    {
     "name": "stdout",
     "output_type": "stream",
     "text": [
      "(0, 0)\n",
      "(0, 2)\n",
      "(2, 0)\n",
      "(0, 12*y - 6)\n",
      "(4*y - 2, 4*x - 2)\n",
      "(12*x - 6, 0)\n",
      "(6*(2*x - 1)*(2*y - 1), 3*(2*x - 1)^2 - 1)\n",
      "(3*(2*y - 1)^2 - 1, 6*(2*x - 1)*(2*y - 1))\n",
      "(3*(3*(2*y - 1)^2 - 1)*(2*x - 1), 3*(3*(2*x - 1)^2 - 1)*(2*y - 1))\n"
     ]
    }
   ],
   "source": [
    "tensorP_grad = []\n",
    "tensorP_ngrad = []\n",
    "tensorP_ngradf = []\n",
    "import numpy as nm\n",
    "for i, P in enumerate(tensorP):\n",
    "    gradxP(x,y) = diff(P, x)\n",
    "    gradyP(x,y) = diff(P, y)\n",
    "    gradP(x, y) = [gradxP, gradyP]\n",
    "    print(str(gradP(x,y)))\n",
    "    tensorP_grad.append(gradP)\n",
    "    ngradPs = ()\n",
    "    tensorP_ngradf.append((fast_callable(diff(P, x), vars = (x,y)), \n",
    "                           fast_callable(diff(P, y), vars = (x,y))))\n",
    "    sgradxP = str(gradxP(x,y)).replace(\"^\", \"**\")\n",
    "    sgradyP = str(gradyP(x,y)).replace(\"^\", \"**\")\n",
    "    tensorP_ngrad.append(eval(\"lambda x, y: nm.stack([{s1}*nm.ones(nm.shape(x)), \\\n",
    "                                                      {s2}*nm.ones(nm.shape(y))])\"\n",
    "                              .format(s1=sgradxP, s2=sgradyP)))"
   ]
  },
  {
   "cell_type": "code",
   "execution_count": 175,
   "metadata": {},
   "outputs": [],
   "source": [
    "X, Y = nm.meshgrid(nm.linspace(0,1, 10), nm.linspace(0,1, 10))\n",
    "\n",
    "gradZ = [p(X, Y) for p in tensorP_ngrad]\n",
    "\n",
    "   "
   ]
  },
  {
   "cell_type": "code",
   "execution_count": 179,
   "metadata": {},
   "outputs": [
    {
     "data": {
      "text/plain": [
       "array([-6., -6., -6., -6., -6., -6., -6., -6., -6., -6.])"
      ]
     },
     "execution_count": 179,
     "metadata": {},
     "output_type": "execute_result"
    }
   ],
   "source": [
    "gradZ[5][0][:, 0]"
   ]
  },
  {
   "cell_type": "code",
   "execution_count": 181,
   "metadata": {},
   "outputs": [
    {
     "data": {
      "text/plain": [
       "array([0., 0., 0., 0., 0., 0., 0., 0., 0., 0.])"
      ]
     },
     "execution_count": 181,
     "metadata": {},
     "output_type": "execute_result"
    }
   ],
   "source": [
    "X[: , 0]"
   ]
  },
  {
   "cell_type": "code",
   "execution_count": null,
   "metadata": {},
   "outputs": [],
   "source": []
  }
 ],
 "metadata": {
  "kernelspec": {
   "display_name": "SageMath 9.7",
   "language": "sage",
   "name": "sagemath"
  },
  "language_info": {
   "codemirror_mode": {
    "name": "ipython",
    "version": 3
   },
   "file_extension": ".py",
   "mimetype": "text/x-python",
   "name": "python",
   "nbconvert_exporter": "python",
   "pygments_lexer": "ipython3",
   "version": "3.9.13"
  }
 },
 "nbformat": 4,
 "nbformat_minor": 4
}
