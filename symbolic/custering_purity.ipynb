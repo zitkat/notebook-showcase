{
 "cells": [
  {
   "cell_type": "markdown",
   "metadata": {},
   "source": [
    "# Exploring theoretical bounds on clustering purity and coverage"
   ]
  },
  {
   "cell_type": "code",
   "execution_count": 1,
   "metadata": {},
   "outputs": [],
   "source": [
    "from itertools import combinations"
   ]
  },
  {
   "cell_type": "code",
   "execution_count": 2,
   "metadata": {},
   "outputs": [],
   "source": [
    "def purity(clusters, classes):\n",
    "    N = sum( len(clas) for clas in classes)\n",
    "    return 1/N * sum(max(len(set(cluster) & set(clas)) for clas in classes) for cluster in clusters)"
   ]
  },
  {
   "cell_type": "code",
   "execution_count": 3,
   "metadata": {},
   "outputs": [],
   "source": [
    "def coverage(clusters, classes):\n",
    "    N = sum( len(clas) for clas in classes)\n",
    "    return 1/N * sum(max(len(set(cluster) & set(clas)) for cluster in clusters) for clas in classes) "
   ]
  },
  {
   "cell_type": "code",
   "execution_count": 4,
   "metadata": {},
   "outputs": [],
   "source": [
    "clusters = [{1}, {2}, {3}]\n",
    "classes = [{1, 2}, {3}]"
   ]
  },
  {
   "cell_type": "code",
   "execution_count": 5,
   "metadata": {},
   "outputs": [
    {
     "name": "stdout",
     "output_type": "stream",
     "text": [
      "Purity: 1\n",
      "Coverage: 2/3\n"
     ]
    }
   ],
   "source": [
    "print(\"Purity:\", purity(clusters, classes))\n",
    "print(\"Coverage:\", coverage(clusters, classes))"
   ]
  },
  {
   "cell_type": "code",
   "execution_count": 6,
   "metadata": {},
   "outputs": [],
   "source": [
    "def partition(collection):\n",
    "    if len(collection) == 1:\n",
    "        yield [collection]\n",
    "        return\n",
    "\n",
    "    first = collection[0]\n",
    "    for smaller in partition(collection[1:]):\n",
    "        # insert `first` in each of the subpartition's subsets\n",
    "        for n, subset in enumerate(smaller):\n",
    "            yield smaller[:n] + [[first] + subset]  + smaller[n+1:]\n",
    "        # put `first` in its own subset \n",
    "        yield [ [first]] + smaller\n"
   ]
  },
  {
   "cell_type": "code",
   "execution_count": 7,
   "metadata": {},
   "outputs": [],
   "source": [
    "def epurity(classes):\n",
    "    X = set.union(*classes)\n",
    "    N = len(X)\n",
    "    BX = bell_number(N)\n",
    "    epur = 0\n",
    "    for om in partition(list(X)):\n",
    "        #print(om)\n",
    "        pur = purity(om, classes)\n",
    "        #print(\"Purity({}, {}) = {}\".format(om, classes, purity(om, classes)))\n",
    "        epur += pur\n",
    "    return epur/BX"
   ]
  },
  {
   "cell_type": "code",
   "execution_count": 8,
   "metadata": {},
   "outputs": [
    {
     "name": "stdout",
     "output_type": "stream",
     "text": [
      "Purity for 1 is 1 \n",
      "\n",
      "Purity for 2 is 3/4 \n",
      "\n",
      "Purity for 3 is 2/3 \n",
      "\n",
      "Purity for 4 is 37/60 \n",
      "\n",
      "Purity for 5 is 151/260 \n",
      "\n",
      "Purity for 6 is 337/609 \n",
      "\n",
      "Purity for 7 is 3263/6139 \n",
      "\n",
      "Purity for 8 is 5669/11040 \n",
      "\n",
      "Purity for 9 is 94828/190323 \n",
      "\n",
      "Purity for 10 is 112519/231950 \n",
      "\n",
      "Purity for 11 is 3535027/7464270 \n",
      "\n"
     ]
    }
   ],
   "source": [
    "epurities = []\n",
    "for n in range(11):\n",
    "    epurities.append(epurity([{i} for i in range(n+1)]))\n",
    "    print(\"Purity for {} is {} \\n\".format(n + 1, epurities[n]))"
   ]
  },
  {
   "cell_type": "code",
   "execution_count": 9,
   "metadata": {},
   "outputs": [],
   "source": [
    "pl = list_plot(epurities) + list_plot([[0, .5],[11, .5]], plotjoined=True, color=\"red\")"
   ]
  },
  {
   "cell_type": "code",
   "execution_count": 10,
   "metadata": {},
   "outputs": [
    {
     "data": {
      "image/png": "[encoded data removed]",
      "text/plain": [
       "Graphics object consisting of 2 graphics primitives"
      ]
     },
     "metadata": {},
     "output_type": "display_data"
    }
   ],
   "source": [
    "pl.show()"
   ]
  },
  {
   "cell_type": "code",
   "execution_count": null,
   "metadata": {},
   "outputs": [],
   "source": []
  }
 ],
 "metadata": {
  "kernelspec": {
   "display_name": "SageMath 9.7",
   "language": "sage",
   "name": "sagemath"
  },
  "language_info": {
   "codemirror_mode": {
    "name": "ipython",
    "version": 3
   },
   "file_extension": ".py",
   "mimetype": "text/x-python",
   "name": "python",
   "nbconvert_exporter": "python",
   "pygments_lexer": "ipython3",
   "version": "3.9.13"
  }
 },
 "nbformat": 4,
 "nbformat_minor": 4
}
