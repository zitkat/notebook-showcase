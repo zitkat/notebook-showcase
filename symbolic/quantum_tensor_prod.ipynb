{
 "cells": [
  {
   "cell_type": "markdown",
   "metadata": {},
   "source": [
    "# Tensor product in quantum computing"
   ]
  },
  {
   "cell_type": "code",
   "execution_count": 2,
   "metadata": {},
   "outputs": [],
   "source": [
    "import numpy as np"
   ]
  },
  {
   "cell_type": "code",
   "execution_count": 3,
   "metadata": {},
   "outputs": [
    {
     "data": {
      "text/plain": [
       "array([[1],\n",
       "       [0]])"
      ]
     },
     "execution_count": 3,
     "metadata": {},
     "output_type": "execute_result"
    }
   ],
   "source": [
    "_0 = np.expand_dims((np.array([1, 0])), 1,)\n",
    "_0"
   ]
  },
  {
   "cell_type": "code",
   "execution_count": 4,
   "metadata": {},
   "outputs": [
    {
     "data": {
      "text/plain": [
       "array([[0],\n",
       "       [1]])"
      ]
     },
     "execution_count": 4,
     "metadata": {},
     "output_type": "execute_result"
    }
   ],
   "source": [
    "_1 = np.expand_dims((np.array([0, 1])), 1,)\n",
    "_1"
   ]
  },
  {
   "cell_type": "code",
   "execution_count": 5,
   "metadata": {},
   "outputs": [
    {
     "data": {
      "text/plain": [
       "array([0, 0, 0, 1])"
      ]
     },
     "execution_count": 5,
     "metadata": {},
     "output_type": "execute_result"
    }
   ],
   "source": [
    "(_1 @ _1.T).flatten()"
   ]
  },
  {
   "cell_type": "code",
   "execution_count": 6,
   "metadata": {},
   "outputs": [],
   "source": [
    "from itertools import accumulate, product, repeat\n",
    "from functools import reduce\n",
    "from operator import mul\n",
    "\n",
    "def bouter(m1, m2):\n",
    "    \"\"\"\n",
    "    Binary (in sense of parity of operation!) outer product of two\n",
    "    column vectors.\n",
    "    \"\"\"\n",
    "    return (m1 @ m2.T)[..., None]\n",
    "\n",
    "def bbouter(m1, m2):\n",
    "    \"\"\"\n",
    "    Better Binary (in sense of parity of operation!) outer product of two\n",
    "    arbitrary tensors, i.e. even matrices.\n",
    "    \"\"\"\n",
    "    return np.squeeze(np.tensordot(m1, m2, axes=0))\n",
    "\n",
    "def outer(*ms):\n",
    "    \"\"\"\n",
    "    Outer product of multiple tensors, uses bbouter.\n",
    "    \"\"\"\n",
    "    return reduce(bbouter, ms)\n",
    "\n",
    "def verbose_outer(*ms):\n",
    "    \"\"\"\n",
    "    Returns all intermediate results.\n",
    "    \"\"\"\n",
    "    return accumulate(ms, bbouter)\n",
    "\n",
    "def mat_outer(*ms):\n",
    "    \"\"\"\n",
    "    Outer product which \"flattens\" output into appropriate matrix.\n",
    "    \"\"\"\n",
    "    return flat_mat(outer(*ms))\n",
    "\n",
    "def mat_outer_pow(m, e: int):\n",
    "    return mat_outer(*repeat(m, e))\n",
    "\n",
    "def col_outer(*ms):\n",
    "    \"\"\"\n",
    "    Outer product which \"flattens\" result into column vector.\n",
    "    \"\"\"\n",
    "    return flat_col(outer(*ms))\n",
    "\n",
    "def col_outer_pow(m, e: int):\n",
    "    return col_outer(*repeat(m, e))\n",
    "\n",
    "def flat_col(m):\n",
    "    return m.flatten()[..., None]\n",
    "\n",
    "def flat_mat(m):\n",
    "    \"\"\"\n",
    "    Flattens tensor product of single qubit transforms \n",
    "    matrices to shape 2^n x 2^n, where n is the number \n",
    "    of qubits.\n",
    "    \"\"\"\n",
    "    n = int(np.sqrt(m.size))\n",
    "    odds = np.arange(m.ndim, dtype=int)[1:-1:2]\n",
    "    evens = np.arange(m.ndim, dtype=int)[2:-1:2]\n",
    "    # MAGIC :-)\n",
    "    return m.transpose(0, *evens, *odds, m.ndim - 1).reshape(n, n)\n",
    "\n",
    "\n",
    "# Display utils\n",
    "def str01(m):\n",
    "    \"\"\"\n",
    "    _0 = [1, 0]^T or _1 = [0, 1]^T vector to string \"0\" or \"1\"\n",
    "    \"\"\"\n",
    "    if bool(m.T @ _0):\n",
    "        return \"0\"\n",
    "    else:\n",
    "        return \"1\"\n",
    "\n",
    "def strket(*m):\n",
    "    \"\"\"\n",
    "    String ket representation of sequence of _0/_1 vectors.\n",
    "    \"\"\"\n",
    "    return f\"|{''.join(map(str01, m))}>\""
   ]
  },
  {
   "cell_type": "code",
   "execution_count": 7,
   "metadata": {},
   "outputs": [
    {
     "data": {
      "text/plain": [
       "array([[1, 0],\n",
       "       [0, 0]])"
      ]
     },
     "execution_count": 7,
     "metadata": {},
     "output_type": "execute_result"
    }
   ],
   "source": [
    "bbouter(_0, _0)"
   ]
  },
  {
   "cell_type": "code",
   "execution_count": 8,
   "metadata": {},
   "outputs": [
    {
     "data": {
      "text/plain": [
       "[(2, 1), (2, 2), (2, 2, 2), (2, 2, 2, 2)]"
      ]
     },
     "execution_count": 8,
     "metadata": {},
     "output_type": "execute_result"
    }
   ],
   "source": [
    "list(map(lambda s: s.shape, accumulate([_0, _1, _1, _0], bbouter)))"
   ]
  },
  {
   "cell_type": "code",
   "execution_count": 9,
   "metadata": {},
   "outputs": [
    {
     "data": {
      "text/plain": [
       "array([[0],\n",
       "       [0],\n",
       "       [0],\n",
       "       [0],\n",
       "       [0],\n",
       "       [0],\n",
       "       [0],\n",
       "       [1]])"
      ]
     },
     "execution_count": 9,
     "metadata": {},
     "output_type": "execute_result"
    }
   ],
   "source": [
    "col_outer(_1, _1, _1)"
   ]
  },
  {
   "cell_type": "markdown",
   "metadata": {},
   "source": [
    "## All eigen states of n qubit sytem"
   ]
  },
  {
   "cell_type": "code",
   "execution_count": 10,
   "metadata": {},
   "outputs": [],
   "source": [
    "n = 3  # number of qubits\n",
    "eigenstates = {strket(*s): col_outer(*s) for s in  product([_0, _1], repeat=n)}"
   ]
  },
  {
   "cell_type": "code",
   "execution_count": 11,
   "metadata": {
    "scrolled": true
   },
   "outputs": [
    {
     "data": {
      "text/plain": [
       "{'|000>': array([[1],\n",
       "        [0],\n",
       "        [0],\n",
       "        [0],\n",
       "        [0],\n",
       "        [0],\n",
       "        [0],\n",
       "        [0]]), '|001>': array([[0],\n",
       "        [1],\n",
       "        [0],\n",
       "        [0],\n",
       "        [0],\n",
       "        [0],\n",
       "        [0],\n",
       "        [0]]), '|010>': array([[0],\n",
       "        [0],\n",
       "        [1],\n",
       "        [0],\n",
       "        [0],\n",
       "        [0],\n",
       "        [0],\n",
       "        [0]]), '|011>': array([[0],\n",
       "        [0],\n",
       "        [0],\n",
       "        [1],\n",
       "        [0],\n",
       "        [0],\n",
       "        [0],\n",
       "        [0]]), '|100>': array([[0],\n",
       "        [0],\n",
       "        [0],\n",
       "        [0],\n",
       "        [1],\n",
       "        [0],\n",
       "        [0],\n",
       "        [0]]), '|101>': array([[0],\n",
       "        [0],\n",
       "        [0],\n",
       "        [0],\n",
       "        [0],\n",
       "        [1],\n",
       "        [0],\n",
       "        [0]]), '|110>': array([[0],\n",
       "        [0],\n",
       "        [0],\n",
       "        [0],\n",
       "        [0],\n",
       "        [0],\n",
       "        [1],\n",
       "        [0]]), '|111>': array([[0],\n",
       "        [0],\n",
       "        [0],\n",
       "        [0],\n",
       "        [0],\n",
       "        [0],\n",
       "        [0],\n",
       "        [1]])}"
      ]
     },
     "execution_count": 11,
     "metadata": {},
     "output_type": "execute_result"
    }
   ],
   "source": [
    "eigenstates"
   ]
  },
  {
   "cell_type": "code",
   "execution_count": 12,
   "metadata": {},
   "outputs": [
    {
     "data": {
      "text/plain": [
       "{'[1 0 0 0 0 0 0 0]': '|000>',\n",
       " '[0 1 0 0 0 0 0 0]': '|001>',\n",
       " '[0 0 1 0 0 0 0 0]': '|010>',\n",
       " '[0 0 0 1 0 0 0 0]': '|011>',\n",
       " '[0 0 0 0 1 0 0 0]': '|100>',\n",
       " '[0 0 0 0 0 1 0 0]': '|101>',\n",
       " '[0 0 0 0 0 0 1 0]': '|110>',\n",
       " '[0 0 0 0 0 0 0 1]': '|111>'}"
      ]
     },
     "execution_count": 12,
     "metadata": {},
     "output_type": "execute_result"
    }
   ],
   "source": [
    "eigenkets = {str(v.flatten()): k for k, v in eigenstates.items()}\n",
    "eigenkets"
   ]
  },
  {
   "cell_type": "markdown",
   "metadata": {},
   "source": [
    "##  Eigenstates mixture\n",
    "Requires Sage kernel!"
   ]
  },
  {
   "cell_type": "code",
   "execution_count": 13,
   "metadata": {},
   "outputs": [
    {
     "data": {
      "text/plain": [
       "(c_0, c_1, c_2, c_3, c_4, c_5, c_6, c_7)"
      ]
     },
     "execution_count": 13,
     "metadata": {},
     "output_type": "execute_result"
    }
   ],
   "source": [
    "cs = var(\",\".join([f\"c_{i}\" for i in range(2**n)]))\n",
    "cs"
   ]
  },
  {
   "cell_type": "code",
   "execution_count": 15,
   "metadata": {},
   "outputs": [],
   "source": [
    "phi = sum([c * state for c, state in zip(cs, eigenstates.values())])"
   ]
  },
  {
   "cell_type": "code",
   "execution_count": 16,
   "metadata": {},
   "outputs": [
    {
     "data": {
      "text/plain": [
       "array([[c_0],\n",
       "       [c_1],\n",
       "       [c_2],\n",
       "       [c_3],\n",
       "       [c_4],\n",
       "       [c_5],\n",
       "       [c_6],\n",
       "       [c_7]], dtype=object)"
      ]
     },
     "execution_count": 16,
     "metadata": {},
     "output_type": "execute_result"
    }
   ],
   "source": [
    "phi"
   ]
  },
  {
   "cell_type": "markdown",
   "metadata": {},
   "source": [
    "## Quantum gates"
   ]
  },
  {
   "cell_type": "code",
   "execution_count": 17,
   "metadata": {},
   "outputs": [],
   "source": [
    "# single qubit Hadamard gate\n",
    "Had = 1/sqrt(2) * np.array([[1, 1],\n",
    "                            [1, -1]])"
   ]
  },
  {
   "cell_type": "code",
   "execution_count": 18,
   "metadata": {},
   "outputs": [
    {
     "data": {
      "text/plain": [
       "array([[1/2*sqrt(2)],\n",
       "       [1/2*sqrt(2)]], dtype=object)"
      ]
     },
     "execution_count": 18,
     "metadata": {},
     "output_type": "execute_result"
    }
   ],
   "source": [
    "Had @ _0"
   ]
  },
  {
   "cell_type": "code",
   "execution_count": 19,
   "metadata": {},
   "outputs": [
    {
     "data": {
      "text/plain": [
       "array([[0.5*sqrt(2), 0.0, 0.5*sqrt(2), 0.0],\n",
       "       [0.0, 0.5*sqrt(2), 0.0, 0.5*sqrt(2)],\n",
       "       [0.5*sqrt(2), 0.0, -0.5*sqrt(2), -0.0],\n",
       "       [0.0, 0.5*sqrt(2), -0.0, -0.5*sqrt(2)]], dtype=object)"
      ]
     },
     "execution_count": 19,
     "metadata": {},
     "output_type": "execute_result"
    }
   ],
   "source": [
    "# two qubit gate from hadamard and identity\n",
    "m1 = mat_outer(Had, np.eye(2))\n",
    "m1"
   ]
  },
  {
   "cell_type": "code",
   "execution_count": 20,
   "metadata": {},
   "outputs": [
    {
     "data": {
      "text/plain": [
       "(4, 4)"
      ]
     },
     "execution_count": 20,
     "metadata": {},
     "output_type": "execute_result"
    }
   ],
   "source": [
    "m1.shape"
   ]
  },
  {
   "cell_type": "code",
   "execution_count": 21,
   "metadata": {
    "scrolled": true
   },
   "outputs": [
    {
     "data": {
      "text/plain": [
       "array([[0.5*sqrt(2)],\n",
       "       [0],\n",
       "       [-0.5*sqrt(2)],\n",
       "       [0]], dtype=object)"
      ]
     },
     "execution_count": 21,
     "metadata": {},
     "output_type": "execute_result"
    }
   ],
   "source": [
    "# applying gate to state |10> produces state sqrt(2)/2*|00>  - sqrt(2)/2*|10>\n",
    "m1 @ col_outer(_1, _0)"
   ]
  },
  {
   "cell_type": "code",
   "execution_count": 25,
   "metadata": {},
   "outputs": [
    {
     "data": {
      "text/plain": [
       "array([[0],\n",
       "       [0],\n",
       "       [0],\n",
       "       [0],\n",
       "       [1],\n",
       "       [0],\n",
       "       [0],\n",
       "       [0]])"
      ]
     },
     "execution_count": 25,
     "metadata": {},
     "output_type": "execute_result"
    }
   ],
   "source": [
    "eigenstates[\"|100>\"]"
   ]
  },
  {
   "cell_type": "code",
   "execution_count": 24,
   "metadata": {
    "scrolled": true
   },
   "outputs": [
    {
     "data": {
      "text/plain": [
       "array([[1/2*sqrt(2)],\n",
       "       [0],\n",
       "       [0],\n",
       "       [0],\n",
       "       [-1/2*sqrt(2)],\n",
       "       [0],\n",
       "       [0],\n",
       "       [0]], dtype=object)"
      ]
     },
     "execution_count": 24,
     "metadata": {},
     "output_type": "execute_result"
    }
   ],
   "source": [
    "# state of 3 qubits with first qubit in superposition and rest zeroed\n",
    "col_outer((1/sqrt(2) * _0 - 1/sqrt(2) * _1), _0,  _0)"
   ]
  },
  {
   "cell_type": "code",
   "execution_count": 26,
   "metadata": {},
   "outputs": [
    {
     "data": {
      "text/plain": [
       "(2, 2, 2, 2, 2, 2)"
      ]
     },
     "execution_count": 26,
     "metadata": {},
     "output_type": "execute_result"
    }
   ],
   "source": [
    "# this gate produces same result as above\n",
    "m2 = outer(Had, \n",
    "           np.eye(2), \n",
    "           np.eye(2))\n",
    "m2.shape"
   ]
  },
  {
   "cell_type": "code",
   "execution_count": 27,
   "metadata": {
    "scrolled": true
   },
   "outputs": [
    {
     "data": {
      "text/plain": [
       "array([[0.5*sqrt(2)],\n",
       "       [0],\n",
       "       [0],\n",
       "       [0],\n",
       "       [-0.5*sqrt(2)],\n",
       "       [0],\n",
       "       [0],\n",
       "       [0]], dtype=object)"
      ]
     },
     "execution_count": 27,
     "metadata": {},
     "output_type": "execute_result"
    }
   ],
   "source": [
    "# transpose and reshape is a bit hairy due to hierarchical structure of tensor product\n",
    "m2.transpose(0, 2, 4, 1, 3, 5).reshape(8, 8) @ col_outer(_1, _0, _0)"
   ]
  },
  {
   "cell_type": "code",
   "execution_count": 28,
   "metadata": {},
   "outputs": [
    {
     "data": {
      "text/plain": [
       "array([[0.5*sqrt(2)],\n",
       "       [0],\n",
       "       [0],\n",
       "       [0],\n",
       "       [-0.5*sqrt(2)],\n",
       "       [0],\n",
       "       [0],\n",
       "       [0]], dtype=object)"
      ]
     },
     "execution_count": 28,
     "metadata": {},
     "output_type": "execute_result"
    }
   ],
   "source": [
    "# transpose and reshape hidden in flat_mat\n",
    "flat_mat(m2) @ col_outer(_1, _0, _0)"
   ]
  },
  {
   "cell_type": "code",
   "execution_count": 29,
   "metadata": {},
   "outputs": [
    {
     "data": {
      "text/plain": [
       "array([[0],\n",
       "       [0],\n",
       "       [0],\n",
       "       [0],\n",
       "       [0.5*sqrt(2)],\n",
       "       [0],\n",
       "       [0.5*sqrt(2)],\n",
       "       [0]], dtype=object)"
      ]
     },
     "execution_count": 29,
     "metadata": {},
     "output_type": "execute_result"
    }
   ],
   "source": [
    "# mat_outer does everything automatically, also different gate works too!\n",
    "mat_outer(np.eye(2), \n",
    "          Had, \n",
    "          np.eye(2)) @ col_outer(_1, _0, _0)"
   ]
  },
  {
   "cell_type": "code",
   "execution_count": 30,
   "metadata": {},
   "outputs": [
    {
     "data": {
      "text/plain": [
       "array([[0],\n",
       "       [0],\n",
       "       [0],\n",
       "       [0],\n",
       "       [1/2*sqrt(2)],\n",
       "       [0],\n",
       "       [1/2*sqrt(2)],\n",
       "       [0]], dtype=object)"
      ]
     },
     "execution_count": 30,
     "metadata": {},
     "output_type": "execute_result"
    }
   ],
   "source": [
    "1/sqrt(2) * eigenstates[\"|110>\"] + 1/sqrt(2) * eigenstates[\"|100>\"]"
   ]
  },
  {
   "cell_type": "code",
   "execution_count": 31,
   "metadata": {},
   "outputs": [
    {
     "data": {
      "text/plain": [
       "array([[1/4*sqrt(2)],\n",
       "       [1/4*sqrt(2)],\n",
       "       [1/4*sqrt(2)],\n",
       "       [1/4*sqrt(2)],\n",
       "       [-1/4*sqrt(2)],\n",
       "       [-1/4*sqrt(2)],\n",
       "       [-1/4*sqrt(2)],\n",
       "       [-1/4*sqrt(2)]], dtype=object)"
      ]
     },
     "execution_count": 31,
     "metadata": {},
     "output_type": "execute_result"
    }
   ],
   "source": [
    "mat_outer(Had, Had, Had) @ col_outer(_1, _0, _0)"
   ]
  },
  {
   "cell_type": "code",
   "execution_count": 32,
   "metadata": {},
   "outputs": [],
   "source": [
    "# Swap gate yayy!\n",
    "Swap = np.array([[1, 0, 0, 0],\n",
    "                 [0, 0, 1, 0],\n",
    "                 [0, 1, 0, 0],\n",
    "                 [0, 0, 0, 1]])"
   ]
  },
  {
   "cell_type": "code",
   "execution_count": 33,
   "metadata": {},
   "outputs": [
    {
     "data": {
      "text/plain": [
       "array([[0],\n",
       "       [0],\n",
       "       [1],\n",
       "       [0]])"
      ]
     },
     "execution_count": 33,
     "metadata": {},
     "output_type": "execute_result"
    }
   ],
   "source": [
    "Swap @ col_outer(_0, _1)"
   ]
  },
  {
   "cell_type": "code",
   "execution_count": 34,
   "metadata": {},
   "outputs": [
    {
     "data": {
      "text/plain": [
       "array([[1/2*sqrt(2)],\n",
       "       [1/2*sqrt(2)],\n",
       "       [0],\n",
       "       [0]], dtype=object)"
      ]
     },
     "execution_count": 34,
     "metadata": {},
     "output_type": "execute_result"
    }
   ],
   "source": [
    "Swap @ col_outer(Had @ _0, _0)"
   ]
  },
  {
   "cell_type": "code",
   "execution_count": 35,
   "metadata": {},
   "outputs": [
    {
     "data": {
      "text/plain": [
       "array([[1/2*sqrt(2)],\n",
       "       [0],\n",
       "       [0],\n",
       "       [0],\n",
       "       [1/2*sqrt(2)],\n",
       "       [0],\n",
       "       [0],\n",
       "       [0]], dtype=object)"
      ]
     },
     "execution_count": 35,
     "metadata": {},
     "output_type": "execute_result"
    }
   ],
   "source": [
    "col_outer(col_outer(Had @ _0, _0), _0)"
   ]
  },
  {
   "cell_type": "code",
   "execution_count": 36,
   "metadata": {},
   "outputs": [
    {
     "data": {
      "text/plain": [
       "array([[0],\n",
       "       [0],\n",
       "       [0],\n",
       "       [0],\n",
       "       [1],\n",
       "       [0],\n",
       "       [0],\n",
       "       [0]])"
      ]
     },
     "execution_count": 36,
     "metadata": {},
     "output_type": "execute_result"
    }
   ],
   "source": [
    "eigenstates[\"|100>\"]"
   ]
  },
  {
   "cell_type": "code",
   "execution_count": 37,
   "metadata": {},
   "outputs": [
    {
     "data": {
      "text/plain": [
       "array([[ True],\n",
       "       [ True],\n",
       "       [ True],\n",
       "       [ True],\n",
       "       [ True],\n",
       "       [ True],\n",
       "       [ True],\n",
       "       [ True],\n",
       "       [ True],\n",
       "       [ True],\n",
       "       [ True],\n",
       "       [ True],\n",
       "       [ True],\n",
       "       [ True],\n",
       "       [ True],\n",
       "       [ True]])"
      ]
     },
     "execution_count": 37,
     "metadata": {},
     "output_type": "execute_result"
    }
   ],
   "source": [
    "col_outer_pow(col_outer(_0, _1), 2) == col_outer(_0, _1, _0, _1)"
   ]
  },
  {
   "cell_type": "code",
   "execution_count": null,
   "metadata": {},
   "outputs": [],
   "source": []
  }
 ],
 "metadata": {
  "kernelspec": {
   "display_name": "SageMath 9.7",
   "language": "sage",
   "name": "sagemath"
  },
  "language_info": {
   "codemirror_mode": {
    "name": "ipython",
    "version": 3
   },
   "file_extension": ".py",
   "mimetype": "text/x-python",
   "name": "python",
   "nbconvert_exporter": "python",
   "pygments_lexer": "ipython3",
   "version": "3.9.13"
  }
 },
 "nbformat": 4,
 "nbformat_minor": 4
}
